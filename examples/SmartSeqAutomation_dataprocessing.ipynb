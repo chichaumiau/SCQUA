{
 "cells": [
  {
   "cell_type": "markdown",
   "metadata": {},
   "source": [
    "# High-throughput Full-Length Single-Cell RNA-Seq Automation \n",
    "## Abstract\n",
    "\n",
    "Existing protocols for full-length single-cell RNA sequencing (scRNA-seq) produce libraries of high complexity (thousands of distinct genes) with outstanding sensitivity and specificity of transcript quantification. These full-length libraries have the advantage of allowing probing of transcript isoforms, are informative regarding single nucleotide polymorphisms, and allow assembly of the VDJ region of the T- and B-cell receptor sequences. Since full length protocols are mostly plate-based at present, they are also suited to profiling cell types where cell numbers are limiting, such as rare cell types during development for instance. A disadvantage of these methods has been the scalability and cost of the experiments, which has limited their popularity as compared to droplet-based and nanowell approaches. Here, we describe an automated protocol for full-length scRNA-seq, including both an in-house automated SMART-seq2 protocol, and a commercial kit-based workflow. We discuss these two protocols in terms of ease-of-use, equipment requirements, running time, cost per sample and sequencing quality. By benchmarking the lysis buffers, reverse transcription enzymes and their combinations, we propose an optimized in-house automated protocol with dramatically reduced cost. These pipelines have been employed successfully for several research projects allied with the Human Cell Atlas initiative (www.humancellatlas.org) and are available on protocols.io."
   ]
  },
  {
   "cell_type": "code",
   "execution_count": 1,
   "metadata": {},
   "outputs": [
    {
     "name": "stdout",
     "output_type": "stream",
     "text": [
      "Populating the interactive namespace from numpy and matplotlib\n"
     ]
    }
   ],
   "source": [
    "%pylab inline\n",
    "\n",
    "import warnings\n",
    "warnings.filterwarnings(\"ignore\")\n",
    "from SCQUA import *\n",
    "from readquant import *\n",
    "from glob import iglob\n",
    "\n",
    "import scanpy as sc\n",
    "import scipy"
   ]
  },
  {
   "cell_type": "markdown",
   "metadata": {},
   "source": [
    "# Read in data"
   ]
  },
  {
   "cell_type": "markdown",
   "metadata": {},
   "source": [
    "> raw data"
   ]
  },
  {
   "cell_type": "markdown",
   "metadata": {},
   "source": [
    "## salmon"
   ]
  },
  {
   "cell_type": "markdown",
   "metadata": {},
   "source": [
    "Here we read in the salmon mapped data and save as AnnData (https://anndata.readthedocs.io/en/stable/anndata.AnnData.html) objects."
   ]
  },
  {
   "cell_type": "code",
   "execution_count": null,
   "metadata": {},
   "outputs": [],
   "source": [
    "tpm,cts = read_quants('salmon/*')\n",
    "qc=read_qcs('salmon/*')"
   ]
  },
  {
   "cell_type": "code",
   "execution_count": 3,
   "metadata": {},
   "outputs": [],
   "source": [
    "ad = sc.AnnData(scipy.sparse.csr_matrix(tpm.T.values))\n",
    "ad.var_names = tpm.index\n",
    "ad.obs_names = tpm.columns\n",
    "ad.layers['counts'] = scipy.sparse.csr_matrix(cts.T.values)\n",
    "qc.index = qc.index\n",
    "obs = qc.loc[ad.obs_names]\n",
    "ad.obs = obs\n",
    "ad.obs['n_counts'] = ad.layers['counts'].sum(1)\n",
    "ad.obs['n_genes'] = (ad.layers['counts']>0).sum(1)\n",
    "ad.obs['lane'] = ad.obs_names.str.split('#').str[0]"
   ]
  },
  {
   "cell_type": "code",
   "execution_count": 5,
   "metadata": {},
   "outputs": [
    {
     "name": "stderr",
     "output_type": "stream",
     "text": [
      "... storing 'num_processed' as categorical\n",
      "... storing 'num_mapped' as categorical\n",
      "... storing 'global_fl_mode' as categorical\n",
      "... storing 'robust_fl_mode' as categorical\n",
      "... storing 'lane' as categorical\n"
     ]
    }
   ],
   "source": [
    "ad.write(\"anndata.h5\")"
   ]
  },
  {
   "cell_type": "code",
   "execution_count": 4,
   "metadata": {},
   "outputs": [],
   "source": [
    "ad = sc.read(\"anndata.h5\")"
   ]
  },
  {
   "cell_type": "code",
   "execution_count": 4,
   "metadata": {},
   "outputs": [],
   "source": [
    "df = get_result_ad(ad, ercc, sirv=None, spike=None)\n",
    "ad.obs = pd.concat([ad.obs,df],axis=1)"
   ]
  },
  {
   "cell_type": "code",
   "execution_count": 5,
   "metadata": {},
   "outputs": [
    {
     "name": "stderr",
     "output_type": "stream",
     "text": [
      "... storing 'num_processed' as categorical\n",
      "... storing 'num_mapped' as categorical\n",
      "... storing 'global_fl_mode' as categorical\n",
      "... storing 'robust_fl_mode' as categorical\n",
      "... storing 'lane' as categorical\n"
     ]
    }
   ],
   "source": [
    "ad.write(\"anndata.h5\")"
   ]
  },
  {
   "cell_type": "code",
   "execution_count": 6,
   "metadata": {},
   "outputs": [
    {
     "data": {
      "text/plain": [
       "(3355, 35819)"
      ]
     },
     "execution_count": 6,
     "metadata": {},
     "output_type": "execute_result"
    }
   ],
   "source": [
    "ad.shape"
   ]
  },
  {
   "cell_type": "markdown",
   "metadata": {},
   "source": [
    "> downsample to e4"
   ]
  },
  {
   "cell_type": "code",
   "execution_count": 37,
   "metadata": {},
   "outputs": [
    {
     "name": "stderr",
     "output_type": "stream",
     "text": [
      "761it [00:44, 21.86it/s]"
     ]
    },
    {
     "name": "stdout",
     "output_type": "stream",
     "text": [
      "Not found salmon/lira_head_e4/24973_2#888\n"
     ]
    },
    {
     "name": "stderr",
     "output_type": "stream",
     "text": [
      "1842it [01:40, 27.37it/s]"
     ]
    },
    {
     "name": "stdout",
     "output_type": "stream",
     "text": [
      "Not found salmon/lira_head_e4/26440_1#192\n"
     ]
    },
    {
     "name": "stderr",
     "output_type": "stream",
     "text": [
      "3356it [03:24, 16.40it/s]\n",
      "768it [00:10, 84.56it/s]"
     ]
    },
    {
     "name": "stdout",
     "output_type": "stream",
     "text": [
      "Not found: salmon/lira_head_e4/24973_2#888\n"
     ]
    },
    {
     "name": "stderr",
     "output_type": "stream",
     "text": [
      "1854it [00:26, 90.64it/s]"
     ]
    },
    {
     "name": "stdout",
     "output_type": "stream",
     "text": [
      "Not found: salmon/lira_head_e4/26440_1#192\n"
     ]
    },
    {
     "name": "stderr",
     "output_type": "stream",
     "text": [
      "3356it [00:55, 60.62it/s]\n"
     ]
    }
   ],
   "source": [
    "tpm,cts = read_quants('salmon/lira_head_e4/*')\n",
    "qc=read_qcs('salmon/lira_head_e4/*')\n",
    "\n",
    "ad = sc.AnnData(scipy.sparse.csr_matrix(tpm.T.values))\n",
    "ad.var_names = tpm.index\n",
    "ad.obs_names = tpm.columns\n",
    "ad.layers['counts'] = scipy.sparse.csr_matrix(cts.T.values)\n",
    "qc.index = qc.index\n",
    "obs = qc.loc[ad.obs_names]\n",
    "ad.obs = obs\n",
    "ad.obs['n_counts'] = ad.layers['counts'].sum(1)\n",
    "ad.obs['n_genes'] = (ad.layers['counts']>0).sum(1)\n",
    "ad.obs['lane'] = ad.obs_names.str.split('#').str[0]"
   ]
  },
  {
   "cell_type": "code",
   "execution_count": 38,
   "metadata": {},
   "outputs": [],
   "source": [
    "df = get_result_ad(ad, ercc, sirv=None, spike=None)\n",
    "ad.obs = pd.concat([ad.obs,df],axis=1)"
   ]
  },
  {
   "cell_type": "code",
   "execution_count": 39,
   "metadata": {},
   "outputs": [
    {
     "name": "stderr",
     "output_type": "stream",
     "text": [
      "... storing 'num_processed' as categorical\n",
      "... storing 'num_mapped' as categorical\n",
      "... storing 'percent_mapped' as categorical\n",
      "... storing 'global_fl_mode' as categorical\n",
      "... storing 'robust_fl_mode' as categorical\n",
      "... storing 'lane' as categorical\n"
     ]
    }
   ],
   "source": [
    "ad.write(\"anndata_e4.h5\")"
   ]
  },
  {
   "cell_type": "code",
   "execution_count": 40,
   "metadata": {},
   "outputs": [
    {
     "data": {
      "text/plain": [
       "(3354, 35819)"
      ]
     },
     "execution_count": 40,
     "metadata": {},
     "output_type": "execute_result"
    }
   ],
   "source": [
    "ad.shape"
   ]
  },
  {
   "cell_type": "code",
   "execution_count": 41,
   "metadata": {},
   "outputs": [
    {
     "data": {
      "text/plain": [
       "766"
      ]
     },
     "execution_count": 41,
     "metadata": {},
     "output_type": "execute_result"
    }
   ],
   "source": [
    "ad.obs_names.str.startswith(\"31617\").sum()"
   ]
  },
  {
   "cell_type": "markdown",
   "metadata": {},
   "source": [
    "> downsample to e5"
   ]
  },
  {
   "cell_type": "code",
   "execution_count": 42,
   "metadata": {},
   "outputs": [
    {
     "name": "stderr",
     "output_type": "stream",
     "text": [
      "370it [00:14, 26.19it/s]"
     ]
    },
    {
     "name": "stdout",
     "output_type": "stream",
     "text": [
      "Not found salmon/lira_head_e5/24973_2#888\n"
     ]
    },
    {
     "name": "stderr",
     "output_type": "stream",
     "text": [
      "1447it [01:00, 20.84it/s]"
     ]
    },
    {
     "name": "stdout",
     "output_type": "stream",
     "text": [
      "Not found salmon/lira_head_e5/26440_1#192\n"
     ]
    },
    {
     "name": "stderr",
     "output_type": "stream",
     "text": [
      "3356it [02:56, 19.07it/s]\n",
      "378it [00:04, 101.70it/s]"
     ]
    },
    {
     "name": "stdout",
     "output_type": "stream",
     "text": [
      "Not found: salmon/lira_head_e5/24973_2#888\n"
     ]
    },
    {
     "name": "stderr",
     "output_type": "stream",
     "text": [
      "1465it [00:16, 99.43it/s]"
     ]
    },
    {
     "name": "stdout",
     "output_type": "stream",
     "text": [
      "Not found: salmon/lira_head_e5/26440_1#192\n"
     ]
    },
    {
     "name": "stderr",
     "output_type": "stream",
     "text": [
      "3356it [00:44, 75.72it/s]\n"
     ]
    }
   ],
   "source": [
    "tpm,cts = read_quants('salmon/lira_head_e5/*')\n",
    "qc=read_qcs('salmon/lira_head_e5/*')\n",
    "\n",
    "ad = sc.AnnData(scipy.sparse.csr_matrix(tpm.T.values))\n",
    "ad.var_names = tpm.index\n",
    "ad.obs_names = tpm.columns\n",
    "ad.layers['counts'] = scipy.sparse.csr_matrix(cts.T.values)\n",
    "qc.index = qc.index\n",
    "obs = qc.loc[ad.obs_names]\n",
    "ad.obs = obs\n",
    "ad.obs['n_counts'] = ad.layers['counts'].sum(1)\n",
    "ad.obs['n_genes'] = (ad.layers['counts']>0).sum(1)\n",
    "ad.obs['lane'] = ad.obs_names.str.split('#').str[0]"
   ]
  },
  {
   "cell_type": "code",
   "execution_count": 43,
   "metadata": {},
   "outputs": [],
   "source": [
    "df = get_result_ad(ad, ercc, sirv=None, spike=None)\n",
    "ad.obs = pd.concat([ad.obs,df],axis=1)"
   ]
  },
  {
   "cell_type": "code",
   "execution_count": 44,
   "metadata": {},
   "outputs": [
    {
     "name": "stderr",
     "output_type": "stream",
     "text": [
      "... storing 'num_processed' as categorical\n",
      "... storing 'num_mapped' as categorical\n",
      "... storing 'percent_mapped' as categorical\n",
      "... storing 'global_fl_mode' as categorical\n",
      "... storing 'robust_fl_mode' as categorical\n",
      "... storing 'lane' as categorical\n"
     ]
    }
   ],
   "source": [
    "ad.write(\"anndata_e5.h5\")"
   ]
  },
  {
   "cell_type": "code",
   "execution_count": 45,
   "metadata": {
    "scrolled": true
   },
   "outputs": [
    {
     "data": {
      "text/plain": [
       "(3354, 35819)"
      ]
     },
     "execution_count": 45,
     "metadata": {},
     "output_type": "execute_result"
    }
   ],
   "source": [
    "ad.shape"
   ]
  },
  {
   "cell_type": "code",
   "execution_count": 46,
   "metadata": {},
   "outputs": [
    {
     "data": {
      "text/plain": [
       "766"
      ]
     },
     "execution_count": 46,
     "metadata": {},
     "output_type": "execute_result"
    }
   ],
   "source": [
    "ad.obs_names.str.startswith(\"31617\").sum()"
   ]
  },
  {
   "cell_type": "markdown",
   "metadata": {},
   "source": [
    "> downsample to e6"
   ]
  },
  {
   "cell_type": "code",
   "execution_count": 28,
   "metadata": {},
   "outputs": [
    {
     "name": "stderr",
     "output_type": "stream",
     "text": [
      "1495it [01:07, 30.88it/s]"
     ]
    },
    {
     "name": "stdout",
     "output_type": "stream",
     "text": [
      "Not found salmon/lira_head_e6/26440_1#192\n"
     ]
    },
    {
     "name": "stderr",
     "output_type": "stream",
     "text": [
      "3356it [02:52, 19.47it/s]\n",
      "1504it [00:18, 99.08it/s] "
     ]
    },
    {
     "name": "stdout",
     "output_type": "stream",
     "text": [
      "Not found: salmon/lira_head_e6/26440_1#192\n"
     ]
    },
    {
     "name": "stderr",
     "output_type": "stream",
     "text": [
      "3356it [00:47, 20.69it/s]\n"
     ]
    }
   ],
   "source": [
    "tpm,cts = read_quants('salmon/lira_head_e6/*')\n",
    "qc=read_qcs('salmon/lira_head_e6/*')\n",
    "\n",
    "ad = sc.AnnData(scipy.sparse.csr_matrix(tpm.T.values))\n",
    "ad.var_names = tpm.index\n",
    "ad.obs_names = tpm.columns\n",
    "ad.layers['counts'] = scipy.sparse.csr_matrix(cts.T.values)\n",
    "qc.index = qc.index\n",
    "obs = qc.loc[ad.obs_names]\n",
    "ad.obs = obs\n",
    "ad.obs['n_counts'] = ad.layers['counts'].sum(1)\n",
    "ad.obs['n_genes'] = (ad.layers['counts']>0).sum(1)\n",
    "ad.obs['lane'] = ad.obs_names.str.split('#').str[0]"
   ]
  },
  {
   "cell_type": "code",
   "execution_count": 29,
   "metadata": {},
   "outputs": [],
   "source": [
    "df = get_result_ad(ad, ercc, sirv=None, spike=None)\n",
    "ad.obs = pd.concat([ad.obs,df],axis=1)"
   ]
  },
  {
   "cell_type": "code",
   "execution_count": 30,
   "metadata": {},
   "outputs": [
    {
     "name": "stderr",
     "output_type": "stream",
     "text": [
      "... storing 'num_processed' as categorical\n",
      "... storing 'num_mapped' as categorical\n",
      "... storing 'percent_mapped' as categorical\n",
      "... storing 'global_fl_mode' as categorical\n",
      "... storing 'robust_fl_mode' as categorical\n",
      "... storing 'lane' as categorical\n"
     ]
    }
   ],
   "source": [
    "ad.write(\"anndata_e6.h5\")"
   ]
  },
  {
   "cell_type": "code",
   "execution_count": 31,
   "metadata": {},
   "outputs": [
    {
     "data": {
      "text/plain": [
       "(3355, 35819)"
      ]
     },
     "execution_count": 31,
     "metadata": {},
     "output_type": "execute_result"
    }
   ],
   "source": [
    "ad.shape"
   ]
  },
  {
   "cell_type": "code",
   "execution_count": 47,
   "metadata": {},
   "outputs": [],
   "source": [
    "dfs = []\n",
    "for id in ['e4','e5','e6']:\n",
    "    ad = sc.read(\"anndata_%s.h5\"%id)\n",
    "#     print(ad.shape)\n",
    "    df = ad.obs\n",
    "    df['name'] = df.index\n",
    "    df.index = '%s='%id+df.index\n",
    "    dfs.append(df)\n",
    "df = pd.concat(dfs)"
   ]
  },
  {
   "cell_type": "code",
   "execution_count": 48,
   "metadata": {},
   "outputs": [
    {
     "data": {
      "text/plain": [
       "(10063, 12)"
      ]
     },
     "execution_count": 48,
     "metadata": {},
     "output_type": "execute_result"
    }
   ],
   "source": [
    "df.shape"
   ]
  },
  {
   "cell_type": "code",
   "execution_count": 49,
   "metadata": {},
   "outputs": [],
   "source": [
    "df.to_csv(\"downsample.csv\")"
   ]
  },
  {
   "cell_type": "code",
   "execution_count": 43,
   "metadata": {},
   "outputs": [],
   "source": [
    "df = pd.read_csv(\"downsample.csv\", index_col=0)"
   ]
  },
  {
   "cell_type": "code",
   "execution_count": 101,
   "metadata": {
    "scrolled": true
   },
   "outputs": [],
   "source": [
    "ad = sc.read(\"anndata.h5\")"
   ]
  },
  {
   "cell_type": "code",
   "execution_count": 51,
   "metadata": {},
   "outputs": [
    {
     "data": {
      "text/plain": [
       "(3355, 35819)"
      ]
     },
     "execution_count": 51,
     "metadata": {},
     "output_type": "execute_result"
    }
   ],
   "source": [
    "ad.shape"
   ]
  },
  {
   "cell_type": "markdown",
   "metadata": {},
   "source": [
    "## metadata"
   ]
  },
  {
   "cell_type": "markdown",
   "metadata": {},
   "source": [
    "Add the metadata annotation to the AnnData."
   ]
  },
  {
   "cell_type": "code",
   "execution_count": 102,
   "metadata": {},
   "outputs": [],
   "source": [
    "names = []\n",
    "metas = []\n",
    "for f in iglob('cram/*.imeta'):\n",
    "    name = f.split('/')[1].split('.')[0]\n",
    "    xx = open(f,'r').read().split('----\\n')\n",
    "    for x in xx:\n",
    "        if x.startswith('attribute: sample_supplier_name'):\n",
    "            meta = x.split('\\n')[1]\n",
    "            break\n",
    "    names.append(name)\n",
    "    metas.append(meta)\n",
    "df = pd.DataFrame({'meta':metas},index=names)\n",
    "df.meta = df.meta.str.split(' ').str[1]"
   ]
  },
  {
   "cell_type": "code",
   "execution_count": 103,
   "metadata": {},
   "outputs": [],
   "source": [
    "df['Enzyme'] = df['meta'].str.split('_').str[0]\n",
    "df['Buffer'] = df['meta'].str.split('_').str[1]\n",
    "\n",
    "ad.obs['Enzyme'] = df.loc[ad.obs_names]['Enzyme']\n",
    "ad.obs['Buffer'] = df.loc[ad.obs_names]['Buffer']"
   ]
  },
  {
   "cell_type": "code",
   "execution_count": 105,
   "metadata": {},
   "outputs": [
    {
     "name": "stderr",
     "output_type": "stream",
     "text": [
      "... storing 'Enzyme' as categorical\n",
      "... storing 'Buffer' as categorical\n"
     ]
    }
   ],
   "source": [
    "ad.write(\"anndata.h5\")"
   ]
  },
  {
   "cell_type": "code",
   "execution_count": null,
   "metadata": {},
   "outputs": [],
   "source": []
  },
  {
   "cell_type": "markdown",
   "metadata": {},
   "source": [
    "## qualimap"
   ]
  },
  {
   "cell_type": "markdown",
   "metadata": {},
   "source": [
    "Add quality assessment metrics derived from qualimap2 (https://academic.oup.com/bioinformatics/article/32/2/292/1744356). "
   ]
  },
  {
   "cell_type": "code",
   "execution_count": 54,
   "metadata": {},
   "outputs": [
    {
     "name": "stderr",
     "output_type": "stream",
     "text": [
      "3304it [03:50, 14.36it/s]\n"
     ]
    }
   ],
   "source": [
    "dfs = []\n",
    "for f in tqdm(iglob('qualimap_res/*/rnaseq_qc_results.txt')):\n",
    "    name = f.split('/')[1]\n",
    "    df = pd.read_csv(f, sep='=|:', skiprows=7, comment='>>', header=None,index_col=0)\n",
    "\n",
    "    df.index = df.index.str.strip()\n",
    "    df.columns = ['val']\n",
    "    df.val = df.val.str.strip()\n",
    "    df['val'] = df['val'].str.replace(',','')\n",
    "    df = df.iloc[2:19,:]\n",
    "    df.loc['exonic_no'] = df.loc['exonic']['val'].split(' ')[0]\n",
    "    df.loc['intronic_no'] = df.loc['intronic']['val'].split(' ')[0]\n",
    "    df.loc['intergenic_no'] = df.loc['intergenic']['val'].split(' ')[0]\n",
    "    df.loc['overlapping exon_no'] = df.loc['overlapping exon']['val'].split(' ')[0]\n",
    "    df['val'] = df['val'].str.split('(').str[-1].str.split(')').str[0].replace('\\%','')\n",
    "    df.columns = [name]\n",
    "    dfs.append(df)"
   ]
  },
  {
   "cell_type": "code",
   "execution_count": 55,
   "metadata": {},
   "outputs": [],
   "source": [
    "df = pd.concat(dfs, axis=1).T"
   ]
  },
  {
   "cell_type": "code",
   "execution_count": 59,
   "metadata": {},
   "outputs": [],
   "source": [
    "df['exonic'] = df['exonic'].str.replace('%','')\n",
    "df['intronic'] = df['intronic'].str.replace('%','')\n",
    "df['intergenic'] = df['intergenic'].str.replace('%','')\n",
    "df['overlapping exon'] = df['overlapping exon'].str.replace('%','')\n",
    "df['rRNA'] = df['rRNA'].str.replace('%','')"
   ]
  },
  {
   "cell_type": "code",
   "execution_count": 62,
   "metadata": {},
   "outputs": [],
   "source": [
    "df.to_csv(\"qualimap_res.csv\")"
   ]
  },
  {
   "cell_type": "markdown",
   "metadata": {},
   "source": [
    "## rRNA"
   ]
  },
  {
   "cell_type": "markdown",
   "metadata": {},
   "source": [
    "Read in the rRNA data from featureCounts (http://bioinf.wehi.edu.au/featureCounts/) result. "
   ]
  },
  {
   "cell_type": "code",
   "execution_count": 63,
   "metadata": {},
   "outputs": [
    {
     "name": "stderr",
     "output_type": "stream",
     "text": [
      "3356it [02:24, 23.10it/s]\n"
     ]
    }
   ],
   "source": [
    "dfs = []\n",
    "names =[]\n",
    "for f in tqdm(iglob('rRNA/*.txt')):\n",
    "    names.append(f.replace('rRNA/','').replace('.txt',''))\n",
    "    flag=0\n",
    "    for i in open(f).read().split('\\n'):\n",
    "        if i.startswith('||    Successfully assigned alignments :'):\n",
    "            dfs.append(i)\n",
    "            flag=1\n",
    "            break\n",
    "    if flag==0:\n",
    "        dfs.append('(NA)')"
   ]
  },
  {
   "cell_type": "code",
   "execution_count": 64,
   "metadata": {},
   "outputs": [],
   "source": [
    "df = pd.Series(dfs, index=names)\n",
    "df = df.str.split('(').str[1].str.split(')').str[0]"
   ]
  },
  {
   "cell_type": "code",
   "execution_count": 66,
   "metadata": {},
   "outputs": [],
   "source": [
    "df = pd.Series(dfs, index=names)\n",
    "df = df.str.split('(').str[1].str.split(')').str[0]"
   ]
  },
  {
   "cell_type": "code",
   "execution_count": 67,
   "metadata": {},
   "outputs": [],
   "source": [
    "df = df[df != 'NA']"
   ]
  },
  {
   "cell_type": "code",
   "execution_count": 69,
   "metadata": {},
   "outputs": [],
   "source": [
    "df.to_csv(\"rRNA.csv\")"
   ]
  },
  {
   "cell_type": "code",
   "execution_count": 70,
   "metadata": {},
   "outputs": [],
   "source": [
    "ad = sc.read(\"anndata.h5\")"
   ]
  },
  {
   "cell_type": "code",
   "execution_count": 72,
   "metadata": {},
   "outputs": [],
   "source": [
    "ad.obs['rRNA%'] = df.loc[ad.obs_names].str.replace('%','').fillna(0).astype(float)"
   ]
  },
  {
   "cell_type": "code",
   "execution_count": 74,
   "metadata": {},
   "outputs": [],
   "source": [
    "df = pd.read_csv(\"qualimap_res.csv\", index_col=0)"
   ]
  },
  {
   "cell_type": "code",
   "execution_count": 81,
   "metadata": {},
   "outputs": [],
   "source": [
    "ad.obs = pd.concat([ad.obs,df.loc[ad.obs_names].fillna(0)], axis=1)"
   ]
  },
  {
   "cell_type": "code",
   "execution_count": 82,
   "metadata": {},
   "outputs": [
    {
     "name": "stderr",
     "output_type": "stream",
     "text": [
      "... storing \"5' bias\" as categorical\n",
      "... storing \"3' bias\" as categorical\n",
      "... storing \"5'-3' bias\" as categorical\n"
     ]
    }
   ],
   "source": [
    "ad.write(\"anndata.h5\")"
   ]
  },
  {
   "cell_type": "code",
   "execution_count": null,
   "metadata": {},
   "outputs": [],
   "source": []
  },
  {
   "cell_type": "markdown",
   "metadata": {},
   "source": [
    "# ERCC+MT"
   ]
  },
  {
   "cell_type": "markdown",
   "metadata": {},
   "source": [
    "Calculate percentages of ERCC contents and mitochondrial contents. "
   ]
  },
  {
   "cell_type": "code",
   "execution_count": 84,
   "metadata": {},
   "outputs": [],
   "source": [
    "df = pd.read_csv(\"/nfs/leia/research/saraht/chichau/Ref/input/GRCm38.cdna.all_ERCC.symbol.tsv\", index_col=0, sep=' ', header=None)\n",
    "\n",
    "df.columns =['symbol']\n",
    "\n",
    "dd = ad.var[ad.var_names.str.startswith(\"ERCC\")]\n",
    "dd = pd.DataFrame({'symbol':dd.index.tolist()}, index=dd.index.tolist())\n",
    "\n",
    "df = pd.concat([df,dd])\n",
    "\n",
    "ad.var['symbol'] = df.loc[ad.var_names]['symbol']\n",
    "\n",
    "df = pd.read_csv(\"/nfs/leia/research/saraht/chichau/Ref/input/GRCm38.cdna.MT.tsv\", \\\n",
    "                 index_col=0, sep=' ', header=None)\n",
    "ad.var['MT'] = ad.var_names.isin(df.index)"
   ]
  },
  {
   "cell_type": "code",
   "execution_count": 85,
   "metadata": {},
   "outputs": [],
   "source": [
    "ad.obs['percent_mito'] = np.sum(\n",
    "    ad[:, ad.var['MT']].X, axis=1).A1 / np.sum(ad.X, axis=1).A1"
   ]
  },
  {
   "cell_type": "code",
   "execution_count": 86,
   "metadata": {
    "scrolled": true
   },
   "outputs": [
    {
     "data": {
      "text/plain": [
       "(3355, 35819)"
      ]
     },
     "execution_count": 86,
     "metadata": {},
     "output_type": "execute_result"
    }
   ],
   "source": [
    "ad.shape"
   ]
  },
  {
   "cell_type": "code",
   "execution_count": 87,
   "metadata": {},
   "outputs": [
    {
     "name": "stderr",
     "output_type": "stream",
     "text": [
      "Variable names are not unique. To make them unique, call `.var_names_make_unique`.\n"
     ]
    }
   ],
   "source": [
    "ad.var['ENS'] = ad.var_names.tolist()\n",
    "ad.var_names = ad.var['symbol'].astype(str)\n",
    "ad.var_names_make_unique()\n",
    "ad.raw = sc.pp.log1p(ad, copy=True)"
   ]
  },
  {
   "cell_type": "code",
   "execution_count": 88,
   "metadata": {},
   "outputs": [
    {
     "name": "stderr",
     "output_type": "stream",
     "text": [
      "... storing 'symbol' as categorical\n",
      "... storing 'symbol' as categorical\n"
     ]
    }
   ],
   "source": [
    "ad.write(\"anndata.h5\")"
   ]
  },
  {
   "cell_type": "code",
   "execution_count": 89,
   "metadata": {},
   "outputs": [],
   "source": [
    "ad = sc.read(\"anndata.h5\")"
   ]
  },
  {
   "cell_type": "code",
   "execution_count": 90,
   "metadata": {},
   "outputs": [],
   "source": [
    "dfs = []\n",
    "for f in iglob('gbc/*.geneBodyCoverage.txt'):\n",
    "    name = f.replace('gbc/','').replace('.geneBodyCoverage.txt','')\n",
    "    df = pd.read_csv(f, sep='\\t', index_col=0).T\n",
    "    if df.shape[1]<1: continue\n",
    "    df = df.iloc[:,0].to_frame()\n",
    "    df.columns = [name]\n",
    "    dfs.append(df)\n",
    "df = pd.concat(dfs, axis=1).T.astype(int)"
   ]
  },
  {
   "cell_type": "code",
   "execution_count": 91,
   "metadata": {},
   "outputs": [
    {
     "data": {
      "text/plain": [
       "(3304, 100)"
      ]
     },
     "execution_count": 91,
     "metadata": {},
     "output_type": "execute_result"
    }
   ],
   "source": [
    "df.shape"
   ]
  },
  {
   "cell_type": "code",
   "execution_count": 92,
   "metadata": {},
   "outputs": [],
   "source": [
    "ad.obsm['genebodycoverage'] = df.loc[ad.obs_names].fillna(0).values"
   ]
  },
  {
   "cell_type": "code",
   "execution_count": 93,
   "metadata": {},
   "outputs": [],
   "source": [
    "ad.write(\"anndata.h5\")"
   ]
  },
  {
   "cell_type": "code",
   "execution_count": 95,
   "metadata": {},
   "outputs": [
    {
     "name": "stderr",
     "output_type": "stream",
     "text": [
      "2334it [02:57, 13.18it/s]\n"
     ]
    }
   ],
   "source": [
    "dfs = []\n",
    "ns = []\n",
    "for f in tqdm(iglob('SJ/*/psi/outrigger_summary.csv')):\n",
    "    df = pd.read_csv(f, index_col=0)\n",
    "    name = f.replace('SJ/','').replace('/psi/outrigger_summary.csv','')\n",
    "    dfs.append(df.shape[0])\n",
    "    ns.append(name)"
   ]
  },
  {
   "cell_type": "code",
   "execution_count": 96,
   "metadata": {},
   "outputs": [],
   "source": [
    "df = pd.DataFrame({'ASE':dfs}, index=ns)"
   ]
  },
  {
   "cell_type": "code",
   "execution_count": 97,
   "metadata": {},
   "outputs": [],
   "source": [
    "ad.obs['ASE'] = df.loc[ad.obs_names].fillna(0).values"
   ]
  },
  {
   "cell_type": "code",
   "execution_count": 98,
   "metadata": {},
   "outputs": [],
   "source": [
    "ad.write(\"anndata.h5\")"
   ]
  },
  {
   "cell_type": "code",
   "execution_count": 99,
   "metadata": {},
   "outputs": [],
   "source": [
    "ad = sc.read(\"anndata.h5\")"
   ]
  },
  {
   "cell_type": "code",
   "execution_count": 100,
   "metadata": {},
   "outputs": [
    {
     "data": {
      "text/html": [
       "<div>\n",
       "<style scoped>\n",
       "    .dataframe tbody tr th:only-of-type {\n",
       "        vertical-align: middle;\n",
       "    }\n",
       "\n",
       "    .dataframe tbody tr th {\n",
       "        vertical-align: top;\n",
       "    }\n",
       "\n",
       "    .dataframe thead th {\n",
       "        text-align: right;\n",
       "    }\n",
       "</style>\n",
       "<table border=\"1\" class=\"dataframe\">\n",
       "  <thead>\n",
       "    <tr style=\"text-align: right;\">\n",
       "      <th></th>\n",
       "      <th>num_processed</th>\n",
       "      <th>num_mapped</th>\n",
       "      <th>percent_mapped</th>\n",
       "      <th>global_fl_mode</th>\n",
       "      <th>robust_fl_mode</th>\n",
       "      <th>n_counts</th>\n",
       "      <th>n_genes</th>\n",
       "      <th>lane</th>\n",
       "      <th>detection_limit_ERCC</th>\n",
       "      <th>accuracy_ERCC</th>\n",
       "      <th>...</th>\n",
       "      <th>5' bias</th>\n",
       "      <th>3' bias</th>\n",
       "      <th>5'-3' bias</th>\n",
       "      <th>reads at junctions</th>\n",
       "      <th>exonic_no</th>\n",
       "      <th>intronic_no</th>\n",
       "      <th>intergenic_no</th>\n",
       "      <th>overlapping exon_no</th>\n",
       "      <th>percent_mito</th>\n",
       "      <th>ASE</th>\n",
       "    </tr>\n",
       "    <tr>\n",
       "      <th>index</th>\n",
       "      <th></th>\n",
       "      <th></th>\n",
       "      <th></th>\n",
       "      <th></th>\n",
       "      <th></th>\n",
       "      <th></th>\n",
       "      <th></th>\n",
       "      <th></th>\n",
       "      <th></th>\n",
       "      <th></th>\n",
       "      <th></th>\n",
       "      <th></th>\n",
       "      <th></th>\n",
       "      <th></th>\n",
       "      <th></th>\n",
       "      <th></th>\n",
       "      <th></th>\n",
       "      <th></th>\n",
       "      <th></th>\n",
       "      <th></th>\n",
       "      <th></th>\n",
       "    </tr>\n",
       "  </thead>\n",
       "  <tbody>\n",
       "    <tr>\n",
       "      <td>24380_6#10</td>\n",
       "      <td>4821812</td>\n",
       "      <td>1240180</td>\n",
       "      <td>25.720206428620614</td>\n",
       "      <td>1000</td>\n",
       "      <td>127</td>\n",
       "      <td>1240180.026</td>\n",
       "      <td>10464</td>\n",
       "      <td>24380_6</td>\n",
       "      <td>203.113225</td>\n",
       "      <td>0.819833</td>\n",
       "      <td>...</td>\n",
       "      <td>0.94</td>\n",
       "      <td>0.78</td>\n",
       "      <td>1.1</td>\n",
       "      <td>2318208.0</td>\n",
       "      <td>4354276.0</td>\n",
       "      <td>2819446.0</td>\n",
       "      <td>2928060.0</td>\n",
       "      <td>513527.0</td>\n",
       "      <td>0.024693</td>\n",
       "      <td>117.0</td>\n",
       "    </tr>\n",
       "    <tr>\n",
       "      <td>24380_6#11</td>\n",
       "      <td>5298308</td>\n",
       "      <td>1393106</td>\n",
       "      <td>26.293412915972418</td>\n",
       "      <td>76</td>\n",
       "      <td>101</td>\n",
       "      <td>1393106.025</td>\n",
       "      <td>10500</td>\n",
       "      <td>24380_6</td>\n",
       "      <td>294.727575</td>\n",
       "      <td>0.797099</td>\n",
       "      <td>...</td>\n",
       "      <td>0.94</td>\n",
       "      <td>0.8</td>\n",
       "      <td>1.07</td>\n",
       "      <td>2608043.0</td>\n",
       "      <td>4856167.0</td>\n",
       "      <td>3054340.0</td>\n",
       "      <td>3349898.0</td>\n",
       "      <td>573599.0</td>\n",
       "      <td>0.019624</td>\n",
       "      <td>117.0</td>\n",
       "    </tr>\n",
       "    <tr>\n",
       "      <td>24380_6#1</td>\n",
       "      <td>4445508</td>\n",
       "      <td>1114437</td>\n",
       "      <td>25.068833528136718</td>\n",
       "      <td>1000</td>\n",
       "      <td>100</td>\n",
       "      <td>1114436.981</td>\n",
       "      <td>9860</td>\n",
       "      <td>24380_6</td>\n",
       "      <td>165.136436</td>\n",
       "      <td>0.865784</td>\n",
       "      <td>...</td>\n",
       "      <td>0.91</td>\n",
       "      <td>0.77</td>\n",
       "      <td>1.08</td>\n",
       "      <td>2129406.0</td>\n",
       "      <td>4034187.0</td>\n",
       "      <td>2563643.0</td>\n",
       "      <td>2736858.0</td>\n",
       "      <td>467635.0</td>\n",
       "      <td>0.024135</td>\n",
       "      <td>109.0</td>\n",
       "    </tr>\n",
       "    <tr>\n",
       "      <td>24380_6#12</td>\n",
       "      <td>7353939</td>\n",
       "      <td>907546</td>\n",
       "      <td>12.340950883601291</td>\n",
       "      <td>87</td>\n",
       "      <td>162</td>\n",
       "      <td>907546.009</td>\n",
       "      <td>9367</td>\n",
       "      <td>24380_6</td>\n",
       "      <td>216.736684</td>\n",
       "      <td>0.824986</td>\n",
       "      <td>...</td>\n",
       "      <td>0.92</td>\n",
       "      <td>0.81</td>\n",
       "      <td>1.08</td>\n",
       "      <td>3647834.0</td>\n",
       "      <td>6585471.0</td>\n",
       "      <td>4157364.0</td>\n",
       "      <td>4441058.0</td>\n",
       "      <td>768541.0</td>\n",
       "      <td>0.030703</td>\n",
       "      <td>205.0</td>\n",
       "    </tr>\n",
       "    <tr>\n",
       "      <td>24380_6#14</td>\n",
       "      <td>5882961</td>\n",
       "      <td>1532189</td>\n",
       "      <td>26.044520777887193</td>\n",
       "      <td>1000</td>\n",
       "      <td>140</td>\n",
       "      <td>1532189.032</td>\n",
       "      <td>10626</td>\n",
       "      <td>24380_6</td>\n",
       "      <td>186.390265</td>\n",
       "      <td>0.689752</td>\n",
       "      <td>...</td>\n",
       "      <td>0.91</td>\n",
       "      <td>0.8</td>\n",
       "      <td>1.09</td>\n",
       "      <td>2839040.0</td>\n",
       "      <td>5228123.0</td>\n",
       "      <td>3449249.0</td>\n",
       "      <td>3497713.0</td>\n",
       "      <td>612212.0</td>\n",
       "      <td>0.027019</td>\n",
       "      <td>157.0</td>\n",
       "    </tr>\n",
       "    <tr>\n",
       "      <td>...</td>\n",
       "      <td>...</td>\n",
       "      <td>...</td>\n",
       "      <td>...</td>\n",
       "      <td>...</td>\n",
       "      <td>...</td>\n",
       "      <td>...</td>\n",
       "      <td>...</td>\n",
       "      <td>...</td>\n",
       "      <td>...</td>\n",
       "      <td>...</td>\n",
       "      <td>...</td>\n",
       "      <td>...</td>\n",
       "      <td>...</td>\n",
       "      <td>...</td>\n",
       "      <td>...</td>\n",
       "      <td>...</td>\n",
       "      <td>...</td>\n",
       "      <td>...</td>\n",
       "      <td>...</td>\n",
       "      <td>...</td>\n",
       "      <td>...</td>\n",
       "    </tr>\n",
       "    <tr>\n",
       "      <td>31617_2#368</td>\n",
       "      <td>1132747</td>\n",
       "      <td>356872</td>\n",
       "      <td>31.50500508939772</td>\n",
       "      <td>85</td>\n",
       "      <td>106</td>\n",
       "      <td>356871.995</td>\n",
       "      <td>1287</td>\n",
       "      <td>31617_2</td>\n",
       "      <td>676.166195</td>\n",
       "      <td>0.353311</td>\n",
       "      <td>...</td>\n",
       "      <td>0</td>\n",
       "      <td>0.07</td>\n",
       "      <td>5.03</td>\n",
       "      <td>273860.0</td>\n",
       "      <td>617949.0</td>\n",
       "      <td>1073885.0</td>\n",
       "      <td>943097.0</td>\n",
       "      <td>73608.0</td>\n",
       "      <td>0.008693</td>\n",
       "      <td>1.0</td>\n",
       "    </tr>\n",
       "    <tr>\n",
       "      <td>31617_2#369</td>\n",
       "      <td>1086182</td>\n",
       "      <td>355407</td>\n",
       "      <td>32.72075950439245</td>\n",
       "      <td>76</td>\n",
       "      <td>166</td>\n",
       "      <td>355407.000</td>\n",
       "      <td>863</td>\n",
       "      <td>31617_2</td>\n",
       "      <td>521.732459</td>\n",
       "      <td>0.506198</td>\n",
       "      <td>...</td>\n",
       "      <td>0.08</td>\n",
       "      <td>0.11</td>\n",
       "      <td>2.8</td>\n",
       "      <td>217344.0</td>\n",
       "      <td>602437.0</td>\n",
       "      <td>1037917.0</td>\n",
       "      <td>961773.0</td>\n",
       "      <td>78050.0</td>\n",
       "      <td>0.022584</td>\n",
       "      <td>0.0</td>\n",
       "    </tr>\n",
       "    <tr>\n",
       "      <td>31617_2#371</td>\n",
       "      <td>1382047</td>\n",
       "      <td>465379</td>\n",
       "      <td>33.67316741037027</td>\n",
       "      <td>1000</td>\n",
       "      <td>118</td>\n",
       "      <td>465378.979</td>\n",
       "      <td>2123</td>\n",
       "      <td>31617_2</td>\n",
       "      <td>181.515158</td>\n",
       "      <td>0.871128</td>\n",
       "      <td>...</td>\n",
       "      <td>0.16</td>\n",
       "      <td>0.49</td>\n",
       "      <td>1.4</td>\n",
       "      <td>372411.0</td>\n",
       "      <td>847528.0</td>\n",
       "      <td>1234628.0</td>\n",
       "      <td>1018533.0</td>\n",
       "      <td>79952.0</td>\n",
       "      <td>0.015719</td>\n",
       "      <td>2.0</td>\n",
       "    </tr>\n",
       "    <tr>\n",
       "      <td>31617_2#370</td>\n",
       "      <td>1461587</td>\n",
       "      <td>504550</td>\n",
       "      <td>34.52069565479168</td>\n",
       "      <td>298</td>\n",
       "      <td>298</td>\n",
       "      <td>504549.995</td>\n",
       "      <td>1735</td>\n",
       "      <td>31617_2</td>\n",
       "      <td>676.166195</td>\n",
       "      <td>0.462481</td>\n",
       "      <td>...</td>\n",
       "      <td>0.04</td>\n",
       "      <td>0.23</td>\n",
       "      <td>1.72</td>\n",
       "      <td>303100.0</td>\n",
       "      <td>738501.0</td>\n",
       "      <td>1444359.0</td>\n",
       "      <td>1342450.0</td>\n",
       "      <td>84907.0</td>\n",
       "      <td>0.022193</td>\n",
       "      <td>1.0</td>\n",
       "    </tr>\n",
       "    <tr>\n",
       "      <td>31617_2#372</td>\n",
       "      <td>1026540</td>\n",
       "      <td>335179</td>\n",
       "      <td>32.651333606094255</td>\n",
       "      <td>89</td>\n",
       "      <td>101</td>\n",
       "      <td>335179.009</td>\n",
       "      <td>1042</td>\n",
       "      <td>31617_2</td>\n",
       "      <td>2324.184594</td>\n",
       "      <td>0.543760</td>\n",
       "      <td>...</td>\n",
       "      <td>0</td>\n",
       "      <td>0</td>\n",
       "      <td>�</td>\n",
       "      <td>181286.0</td>\n",
       "      <td>504773.0</td>\n",
       "      <td>993128.0</td>\n",
       "      <td>986491.0</td>\n",
       "      <td>53123.0</td>\n",
       "      <td>0.009051</td>\n",
       "      <td>1.0</td>\n",
       "    </tr>\n",
       "  </tbody>\n",
       "</table>\n",
       "<p>1159 rows × 35 columns</p>\n",
       "</div>"
      ],
      "text/plain": [
       "            num_processed num_mapped      percent_mapped global_fl_mode  \\\n",
       "index                                                                     \n",
       "24380_6#10        4821812    1240180  25.720206428620614           1000   \n",
       "24380_6#11        5298308    1393106  26.293412915972418             76   \n",
       "24380_6#1         4445508    1114437  25.068833528136718           1000   \n",
       "24380_6#12        7353939     907546  12.340950883601291             87   \n",
       "24380_6#14        5882961    1532189  26.044520777887193           1000   \n",
       "...                   ...        ...                 ...            ...   \n",
       "31617_2#368       1132747     356872   31.50500508939772             85   \n",
       "31617_2#369       1086182     355407   32.72075950439245             76   \n",
       "31617_2#371       1382047     465379   33.67316741037027           1000   \n",
       "31617_2#370       1461587     504550   34.52069565479168            298   \n",
       "31617_2#372       1026540     335179  32.651333606094255             89   \n",
       "\n",
       "            robust_fl_mode     n_counts  n_genes     lane  \\\n",
       "index                                                       \n",
       "24380_6#10             127  1240180.026    10464  24380_6   \n",
       "24380_6#11             101  1393106.025    10500  24380_6   \n",
       "24380_6#1              100  1114436.981     9860  24380_6   \n",
       "24380_6#12             162   907546.009     9367  24380_6   \n",
       "24380_6#14             140  1532189.032    10626  24380_6   \n",
       "...                    ...          ...      ...      ...   \n",
       "31617_2#368            106   356871.995     1287  31617_2   \n",
       "31617_2#369            166   355407.000      863  31617_2   \n",
       "31617_2#371            118   465378.979     2123  31617_2   \n",
       "31617_2#370            298   504549.995     1735  31617_2   \n",
       "31617_2#372            101   335179.009     1042  31617_2   \n",
       "\n",
       "             detection_limit_ERCC  accuracy_ERCC  ...  5' bias  3' bias  \\\n",
       "index                                             ...                     \n",
       "24380_6#10             203.113225       0.819833  ...     0.94     0.78   \n",
       "24380_6#11             294.727575       0.797099  ...     0.94      0.8   \n",
       "24380_6#1              165.136436       0.865784  ...     0.91     0.77   \n",
       "24380_6#12             216.736684       0.824986  ...     0.92     0.81   \n",
       "24380_6#14             186.390265       0.689752  ...     0.91      0.8   \n",
       "...                           ...            ...  ...      ...      ...   \n",
       "31617_2#368            676.166195       0.353311  ...        0     0.07   \n",
       "31617_2#369            521.732459       0.506198  ...     0.08     0.11   \n",
       "31617_2#371            181.515158       0.871128  ...     0.16     0.49   \n",
       "31617_2#370            676.166195       0.462481  ...     0.04     0.23   \n",
       "31617_2#372           2324.184594       0.543760  ...        0        0   \n",
       "\n",
       "             5'-3' bias  reads at junctions  exonic_no  intronic_no  \\\n",
       "index                                                                 \n",
       "24380_6#10          1.1           2318208.0  4354276.0    2819446.0   \n",
       "24380_6#11         1.07           2608043.0  4856167.0    3054340.0   \n",
       "24380_6#1          1.08           2129406.0  4034187.0    2563643.0   \n",
       "24380_6#12         1.08           3647834.0  6585471.0    4157364.0   \n",
       "24380_6#14         1.09           2839040.0  5228123.0    3449249.0   \n",
       "...                 ...                 ...        ...          ...   \n",
       "31617_2#368        5.03            273860.0   617949.0    1073885.0   \n",
       "31617_2#369         2.8            217344.0   602437.0    1037917.0   \n",
       "31617_2#371         1.4            372411.0   847528.0    1234628.0   \n",
       "31617_2#370        1.72            303100.0   738501.0    1444359.0   \n",
       "31617_2#372           �            181286.0   504773.0     993128.0   \n",
       "\n",
       "             intergenic_no  overlapping exon_no  percent_mito    ASE  \n",
       "index                                                                 \n",
       "24380_6#10       2928060.0             513527.0      0.024693  117.0  \n",
       "24380_6#11       3349898.0             573599.0      0.019624  117.0  \n",
       "24380_6#1        2736858.0             467635.0      0.024135  109.0  \n",
       "24380_6#12       4441058.0             768541.0      0.030703  205.0  \n",
       "24380_6#14       3497713.0             612212.0      0.027019  157.0  \n",
       "...                    ...                  ...           ...    ...  \n",
       "31617_2#368       943097.0              73608.0      0.008693    1.0  \n",
       "31617_2#369       961773.0              78050.0      0.022584    0.0  \n",
       "31617_2#371      1018533.0              79952.0      0.015719    2.0  \n",
       "31617_2#370      1342450.0              84907.0      0.022193    1.0  \n",
       "31617_2#372       986491.0              53123.0      0.009051    1.0  \n",
       "\n",
       "[1159 rows x 35 columns]"
      ]
     },
     "execution_count": 100,
     "metadata": {},
     "output_type": "execute_result"
    }
   ],
   "source": [
    "ad.obs[ad.obs['num_processed'].astype(int)>1000000]"
   ]
  },
  {
   "cell_type": "markdown",
   "metadata": {},
   "source": [
    "# End"
   ]
  },
  {
   "cell_type": "code",
   "execution_count": null,
   "metadata": {},
   "outputs": [],
   "source": []
  },
  {
   "cell_type": "code",
   "execution_count": null,
   "metadata": {},
   "outputs": [],
   "source": []
  }
 ],
 "metadata": {
  "kernelspec": {
   "display_name": "Python 3",
   "language": "python",
   "name": "python3"
  },
  "language_info": {
   "codemirror_mode": {
    "name": "ipython",
    "version": 3
   },
   "file_extension": ".py",
   "mimetype": "text/x-python",
   "name": "python",
   "nbconvert_exporter": "python",
   "pygments_lexer": "ipython3",
   "version": "3.7.3"
  }
 },
 "nbformat": 4,
 "nbformat_minor": 2
}
